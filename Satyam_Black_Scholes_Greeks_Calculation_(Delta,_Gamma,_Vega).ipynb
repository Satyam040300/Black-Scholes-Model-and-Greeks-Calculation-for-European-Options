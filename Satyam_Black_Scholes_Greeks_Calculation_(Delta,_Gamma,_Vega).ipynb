{
  "nbformat": 4,
  "nbformat_minor": 0,
  "metadata": {
    "colab": {
      "provenance": []
    },
    "kernelspec": {
      "name": "python3",
      "display_name": "Python 3"
    },
    "language_info": {
      "name": "python"
    }
  },
  "cells": [
    {
      "cell_type": "code",
      "execution_count": 3,
      "metadata": {
        "colab": {
          "base_uri": "https://localhost:8080/"
        },
        "id": "9NZs84a_TI5C",
        "outputId": "20d47ba3-395a-4f15-b7d7-1d36570f1151"
      },
      "outputs": [
        {
          "output_type": "stream",
          "name": "stdout",
          "text": [
            "Delta: 0.6368306507908983\n",
            "Gamma: 0.01875832822406664\n",
            "Vega: 37.52403468872956\n"
          ]
        }
      ],
      "source": [
        "import math\n",
        "from scipy.stats import norm\n",
        "\n",
        "# Black-Scholes Model for European Call Option\n",
        "def black_scholes_call(S0, K, T, r, sigma):\n",
        "    d1 = (math.log(S0 / K) + (r + 0.5 * sigma**2) * T) / (sigma * math.sqrt(T))\n",
        "    d2 = d1 - sigma * math.sqrt(T)\n",
        "    call_price = S0 * norm.cdf(d1) - K * math.exp(-r * T) * norm.cdf(d2)\n",
        "    return call_price\n",
        "\n",
        "# Black-Scholes Model for European Put Option\n",
        "def black_scholes_put(S0, K, T, r, sigma):\n",
        "    d1 = (math.log(S0 / K) + (r + 0.5 * sigma**2) * T) / (sigma * math.sqrt(T))\n",
        "    d2 = d1 - sigma * math.sqrt(T)\n",
        "    put_price = K * math.exp(-r * T) * norm.cdf(-d2) - S0 * norm.cdf(-d1)\n",
        "    return put_price\n",
        "\n",
        "# Calculate Delta (finite differences)\n",
        "def calculate_delta(S0, K, T, r, sigma, epsilon=1e-5):\n",
        "    return (black_scholes_call(S0 + epsilon, K, T, r, sigma) - black_scholes_call(S0 - epsilon, K, T, r, sigma)) / (2 * epsilon)\n",
        "\n",
        "# Calculate Gamma (finite differences)\n",
        "def calculate_gamma(S0, K, T, r, sigma, epsilon=1e-5):\n",
        "    return (black_scholes_call(S0 + epsilon, K, T, r, sigma) - 2 * black_scholes_call(S0, K, T, r, sigma) + black_scholes_call(S0 - epsilon, K, T, r, sigma)) / (epsilon ** 2)\n",
        "\n",
        "# Calculate Vega (finite differences)\n",
        "def calculate_vega(S0, K, T, r, sigma, epsilon=1e-5):\n",
        "    return (black_scholes_call(S0, K, T, r, sigma + epsilon) - black_scholes_call(S0, K, T, r, sigma - epsilon)) / (2 * epsilon)\n",
        "\n",
        "# Example Inputs for Greeks Calculation\n",
        "S0_greeks = 100  # Initial stock price\n",
        "K_greeks = 100   # Strike price\n",
        "T_greeks = 1     # Time to maturity (1 year)\n",
        "r_greeks = 0.05  # Risk-free interest rate\n",
        "sigma_greeks = 0.2  # Volatility (20%)\n",
        "\n",
        "# Greeks calculation\n",
        "delta = calculate_delta(S0_greeks, K_greeks, T_greeks, r_greeks, sigma_greeks)\n",
        "gamma = calculate_gamma(S0_greeks, K_greeks, T_greeks, r_greeks, sigma_greeks)\n",
        "vega = calculate_vega(S0_greeks, K_greeks, T_greeks, r_greeks, sigma_greeks)\n",
        "\n",
        "# Output the results\n",
        "print(f\"Delta: {delta}\")\n",
        "print(f\"Gamma: {gamma}\")\n",
        "print(f\"Vega: {vega}\")\n"
      ]
    }
  ]
}